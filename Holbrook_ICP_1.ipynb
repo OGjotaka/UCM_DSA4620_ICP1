{
  "nbformat": 4,
  "nbformat_minor": 0,
  "metadata": {
    "colab": {
      "provenance": [],
      "authorship_tag": "ABX9TyNu+xjjpMmJcFF6scJUVDa/",
      "include_colab_link": true
    },
    "kernelspec": {
      "name": "python3",
      "display_name": "Python 3"
    },
    "language_info": {
      "name": "python"
    }
  },
  "cells": [
    {
      "cell_type": "markdown",
      "metadata": {
        "id": "view-in-github",
        "colab_type": "text"
      },
      "source": [
        "<a href=\"https://colab.research.google.com/github/OGjotaka/UCM_DSA4620_ICP1/blob/main/Holbrook_ICP_1.ipynb\" target=\"_parent\"><img src=\"https://colab.research.google.com/assets/colab-badge.svg\" alt=\"Open In Colab\"/></a>"
      ]
    },
    {
      "cell_type": "markdown",
      "source": [
        "Probelm 5a: Input the string “Python” as a list of characters from console, delete at least 2 characters, reversetheresultant string, and print it."
      ],
      "metadata": {
        "id": "EaxiAJvxspG1"
      }
    },
    {
      "cell_type": "code",
      "source": [
        "#input from consoloe\n",
        "input_list = list(input(\"Enter a string: \"))\n",
        "\n",
        "#delete 2 characters\n",
        "input_list = input_list[:-2]\n",
        "\n",
        "#reverse the list\n",
        "input_list.reverse()\n",
        "\n",
        "#convert to string\n",
        "reversed_string = ''.join(input_list)\n",
        "\n",
        "#print the reversed string\n",
        "print(\"Reversed string:\", reversed_string)"
      ],
      "metadata": {
        "colab": {
          "base_uri": "https://localhost:8080/"
        },
        "id": "ipuPrM5JssD2",
        "outputId": "e053762e-bdc1-41a8-986b-83d276159b2c"
      },
      "execution_count": 8,
      "outputs": [
        {
          "output_type": "stream",
          "name": "stdout",
          "text": [
            "Enter a string: Python\n",
            "Reversed string: htyP\n"
          ]
        }
      ]
    },
    {
      "cell_type": "markdown",
      "source": [
        "Problem 5b: Take two numbers from user and perform at least 4 arithmetic operations on them."
      ],
      "metadata": {
        "id": "ZUqu8YiNuaS0"
      }
    },
    {
      "cell_type": "code",
      "source": [
        "#input from console\n",
        "num1 = float(input(\"Enter first number: \"))\n",
        "num2 = float(input(\"Enter second number: \"))\n",
        "\n",
        "#perform arithmetic operations\n",
        "print(num1 + num2)   # addition(+)\n",
        "print(num1 - num2)   # subtraction(-)\n",
        "print(num1 * num2)   # multiplication(*)\n",
        "print(num1 / num2)   # division(/"
      ],
      "metadata": {
        "colab": {
          "base_uri": "https://localhost:8080/"
        },
        "id": "i3-Xb_CvkPuH",
        "outputId": "50346d1a-7e3c-495b-9ebd-ab86215988c4"
      },
      "execution_count": 9,
      "outputs": [
        {
          "output_type": "stream",
          "name": "stdout",
          "text": [
            "Enter first number: 2\n",
            "Enter second number: 4\n",
            "6.0\n",
            "-2.0\n",
            "8.0\n",
            "0.5\n"
          ]
        }
      ]
    },
    {
      "cell_type": "markdown",
      "source": [
        "Problem 6: Write a program that accepts a sentence and replace each occurrence of ‘python’ with ‘pythons’."
      ],
      "metadata": {
        "id": "EDtxRUVBu743"
      }
    },
    {
      "cell_type": "code",
      "source": [
        "#input from consolse\n",
        "sentence = input(\"Enter a sentence: \")\n",
        "\n",
        "#replace 'python' with 'pythons'\n",
        "new_sentence = sentence.replace('python', 'pythons')\n",
        "\n",
        "#print the new sentence\n",
        "print(\"New sentence:\", new_sentence)"
      ],
      "metadata": {
        "colab": {
          "base_uri": "https://localhost:8080/"
        },
        "id": "Hsq2jd1Iu_y7",
        "outputId": "815099e2-7c8b-455d-ae93-dc95a2f67885"
      },
      "execution_count": 6,
      "outputs": [
        {
          "output_type": "stream",
          "name": "stdout",
          "text": [
            "Enter a sentence: Java is better than python\n",
            "New sentence: Java is better than pythons\n"
          ]
        }
      ]
    },
    {
      "cell_type": "markdown",
      "source": [
        "Problem 7: Use the if statement conditions to write a program to print the letter grade based on an input class score. Use the grading scheme we are using in this class."
      ],
      "metadata": {
        "id": "QucJpDE8vLE8"
      }
    },
    {
      "cell_type": "code",
      "source": [
        "#print letter grade based on input score\n",
        "score = float(input(\"Enter your score: \"))\n",
        "\n",
        "if score >= 90:\n",
        "    print(\"A\")\n",
        "elif score >= 80:\n",
        "    print(\"B\")\n",
        "elif score >= 70:\n",
        "    print(\"C\")\n",
        "elif score >= 60:\n",
        "    print(\"D\")\n",
        "else:\n",
        "    print(\"F\")"
      ],
      "metadata": {
        "colab": {
          "base_uri": "https://localhost:8080/"
        },
        "id": "ot1V-_NGkgej",
        "outputId": "35b50d0a-46bc-42d9-d126-86fe89aeba4b"
      },
      "execution_count": 10,
      "outputs": [
        {
          "output_type": "stream",
          "name": "stdout",
          "text": [
            "Enter your score: 92\n",
            "A\n"
          ]
        }
      ]
    },
    {
      "cell_type": "markdown",
      "source": [
        "Problem 8: Write a code that appends the type of elements from a given list."
      ],
      "metadata": {
        "id": "w3RdCvFswPnY"
      }
    },
    {
      "cell_type": "code",
      "source": [
        "#create list\n",
        "x = [23, 'Python', 23.98]\n",
        "\n",
        "print(x)\n",
        "\n",
        "for item in x:\n",
        "  print(type(item))"
      ],
      "metadata": {
        "colab": {
          "base_uri": "https://localhost:8080/"
        },
        "id": "x4OhZdDrxLoi",
        "outputId": "0226cc14-6489-4f23-9803-d977d3de4a49"
      },
      "execution_count": 6,
      "outputs": [
        {
          "output_type": "stream",
          "name": "stdout",
          "text": [
            "[23, 'Python', 23.98]\n",
            "<class 'int'>\n",
            "<class 'str'>\n",
            "<class 'float'>\n"
          ]
        }
      ]
    },
    {
      "cell_type": "markdown",
      "source": [
        "Problem 9:\n",
        "\n",
        "IT_companies = {'Facebook', 'Google', 'Microsoft', 'Apple', 'IBM', 'Oracle', 'Amazon'}\n",
        "\n",
        "A = {19, 22, 24, 20, 25, 26}\n",
        "\n",
        "B = {19, 22, 20, 25, 26, 24, 28, 27}\n",
        "\n",
        "age = [22, 19, 24, 25, 26, 24, 25, 24]\n",
        "\n",
        "1.  Find the length of the set IT_companies\n",
        "2.  Add 'Twitter' to IT_companies\n",
        "3.  Insert multiple IT companies at once to the set IT_companies\n",
        "4.  Remove one of the companies from the set IT_companies\n",
        "5.  What is the difference between remove and discard\n",
        "6.  Join A and B\n",
        "7.  Find A intersection B\n",
        "8.  Is A subset of B\n",
        "9.  Are A and B disjoint sets\n",
        "10. Join A with B and B with A\n",
        "11. What is the symmetric difference between A and B\n",
        "12. Delete the sets completely\n",
        "13. Convert the ages to a set and compare the length of the list and the set"
      ],
      "metadata": {
        "id": "PeK_JCc4J7sL"
      }
    },
    {
      "cell_type": "code",
      "source": [
        "# create sets/list\n",
        "IT_companies = {'Facebook', 'Google', 'Microsoft', 'Apple', 'IBM', 'Oracle', 'Amazon'}\n",
        "A = {19, 22, 24, 20, 25, 26}\n",
        "B = {19, 22, 20, 25, 26, 24, 28, 27}\n",
        "age = [22, 19, 24, 25, 26, 24, 25, 24]\n",
        "\n",
        "# get length of it-compaies direcory\n",
        "length_company_dict = len(IT_companies)\n",
        "print(\"Length of Company Directory: \", length_company_dict)\n",
        "\n",
        "# add to company\n",
        "IT_companies.add('Twitter')\n",
        "print(IT_companies)\n",
        "\n",
        "# add multiple to it_companies\n",
        "IT_companies.update(['Meta', 'Samsung', 'Intel'])\n",
        "print(IT_companies)\n",
        "\n",
        "# remove an element\n",
        "IT_companies.remove('Facebook')\n",
        "print(IT_companies)\n",
        "\n",
        "'''\n",
        "Both methods will remove the specified element from the set if it exists. However, if you use the remove()\n",
        "method and the element does not exist in the set, it will raise a KeyError exception. On the other hand, the\n",
        "discard() method will not raise an exception if the element does not exist in the set; it will simply do nothing.\n",
        "'''\n",
        "\n",
        "# join A and B\n",
        "print(\"A = \", A)\n",
        "print(\"B = \", B)\n",
        "result_set = A | B\n",
        "print(\"Result of A join B: \", result_set)\n",
        "\n",
        "# find intersection of A & B\n",
        "intersection_set = A & B\n",
        "print(\"Intersection of A & B: \", intersection_set)\n",
        "\n",
        "# is A subset of B\n",
        "is_subset = A <= B\n",
        "print(\"A is subset of B: \", is_subset)\n",
        "\n",
        "# are A and B disjointed sets\n",
        "are_disjoint = not A.intersection(B)\n",
        "print(\"A and B are digjoint sets: :\", are_disjoint)\n",
        "\n",
        "# join A with B and B with A\n",
        "result_set_1 = A | B\n",
        "result_set_2 = B | B\n",
        "print(\"Result of A join B: \", result_set_1)\n",
        "print(\"Result of B join A: \", result_set_2)\n",
        "\n",
        "# what is the symmetric difference between A and B\n",
        "symmetric_difference_set = A.symmetric_difference(B)\n",
        "print(\"Symmetric Difference: \", symmetric_difference_set)\n",
        "\n",
        "# delete the sets completely\n",
        "del A\n",
        "del B\n",
        "\n",
        "# convert the ages to a set and compare the length of the list and the set\n",
        "# Convert the list to a set\n",
        "print(\"Age List = \", age)\n",
        "age_set = set(age)\n",
        "print(\"Age Set:\", age_set)\n",
        "\n",
        "# Compare the lengths of the list and the set\n",
        "if len(age) == len(age_set):\n",
        "    print(\"The length of the list and the set are the same.\")\n",
        "else:\n",
        "    print(\"The length of the list and the set are different.\")\n"
      ],
      "metadata": {
        "colab": {
          "base_uri": "https://localhost:8080/"
        },
        "id": "xd4b1GzReqMe",
        "outputId": "2ab3d0c5-2742-4f10-dea5-daeaf6a56fb6"
      },
      "execution_count": 6,
      "outputs": [
        {
          "output_type": "stream",
          "name": "stdout",
          "text": [
            "Length of Company Directory:  7\n",
            "{'Facebook', 'Oracle', 'Google', 'Microsoft', 'Amazon', 'Twitter', 'Apple', 'IBM'}\n",
            "{'Oracle', 'Amazon', 'Intel', 'Facebook', 'Google', 'Samsung', 'Twitter', 'IBM', 'Microsoft', 'Meta', 'Apple'}\n",
            "{'Oracle', 'Amazon', 'Intel', 'Google', 'Samsung', 'Twitter', 'IBM', 'Microsoft', 'Meta', 'Apple'}\n",
            "A =  {19, 20, 22, 24, 25, 26}\n",
            "B =  {19, 20, 22, 24, 25, 26, 27, 28}\n",
            "Result of A join B:  {19, 20, 22, 24, 25, 26, 27, 28}\n",
            "Intersection of A & B:  {19, 20, 22, 24, 25, 26}\n",
            "A is subset of B:  True\n",
            "A and B are digjoint sets: : False\n",
            "Result of A join B:  {19, 20, 22, 24, 25, 26, 27, 28}\n",
            "Result of B join A:  {19, 20, 22, 24, 25, 26, 27, 28}\n",
            "Symmetric Difference:  {27, 28}\n",
            "Age List =  [22, 19, 24, 25, 26, 24, 25, 24]\n",
            "Age Set: {19, 22, 24, 25, 26}\n",
            "The length of the list and the set are different.\n"
          ]
        }
      ]
    }
  ]
}